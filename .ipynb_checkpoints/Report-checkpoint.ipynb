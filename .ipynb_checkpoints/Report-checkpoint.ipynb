{
 "cells": [
  {
   "cell_type": "markdown",
   "metadata": {},
   "source": [
    "# Report Projet INFOH600"
   ]
  },
  {
   "cell_type": "markdown",
   "metadata": {},
   "source": [
    "## 1. Data exploration"
   ]
  },
  {
   "cell_type": "markdown",
   "metadata": {},
   "source": [
    "## 2. Integration"
   ]
  },
  {
   "cell_type": "markdown",
   "metadata": {},
   "source": [
    "For each sub dataset, all the data are distributed on different files. As we have seen in part 1, for 3 sub-dataset (fvh, green, yellow) the pattern of the csv files has varied over time. This integration step will therefore make it possible to work later on data that have the same schema. \n",
    "\n",
    "In practice, for the 3 subdatasets, the most recent schema will be taken as the reference schema. All files with a different schema will be converted to their reference schema. This conversion can be either a simple change of column name but can also be a function of several columns.\n",
    "\n",
    "The first step will therefore be to identify these transformations."
   ]
  },
  {
   "cell_type": "markdown",
   "metadata": {},
   "source": [
    "### 2.1. Identification of the transformations"
   ]
  },
  {
   "cell_type": "markdown",
   "metadata": {},
   "source": [
    "The 3 following figures represent the correspondences between the different schemas of the same sub dataset. A reference schema is composed of the entries in the blue boxes. The names or functions below allow to retrieve or rebuild the data from a file built on a different schema. For example for the FHV subdataset the data _pulocationid_ can be found in a _pulocationid_ column but also in a _locationid_ column. In the green subdataset, this same data can also be found in the _pulocationid_ column but also by a function of the _pickup_longitude_ and _pickup_latitude_ columns."
   ]
  },
  {
   "cell_type": "markdown",
   "metadata": {},
   "source": [
    "<img src=\"img/transformation_fhv.png\" width=\"800\" align=\"left\"/>"
   ]
  },
  {
   "cell_type": "markdown",
   "metadata": {},
   "source": [
    "<img src=\"img/transformation_green.png\" width=\"800\" align=\"left\"/>"
   ]
  },
  {
   "cell_type": "markdown",
   "metadata": {},
   "source": [
    "<img src=\"img/transformation_yellow.png\" width=\"800\" align=\"left\"/>"
   ]
  },
  {
   "cell_type": "markdown",
   "metadata": {},
   "source": [
    "### 2.2. Implementation"
   ]
  },
  {
   "cell_type": "markdown",
   "metadata": {},
   "source": [
    "To perform these transformations, we decided to implement a very general function to avoid having to write a specific function for each dataset. The idea of this function is that it transforms a row of data not conforming to the reference scheme into a conforming row from a json configuration file. "
   ]
  },
  {
   "cell_type": "markdown",
   "metadata": {},
   "source": [
    "<img src=\"img/transformation_function.png\" width=\"800\" align=\"left\"/>"
   ]
  },
  {
   "cell_type": "markdown",
   "metadata": {},
   "source": [
    "The json configuration file is subdataset specific, i.e. for each subdataset a configuration file must be defined. These configurations describe the hierarchical diagrams shown above. Part of one of these files (green dataset) is shown below. The whole files are in the repository in the _config_files_ folder. "
   ]
  },
  {
   "cell_type": "markdown",
   "metadata": {},
   "source": [
    "```json\n",
    "{ \n",
    " \"vendorid\": [\n",
    "              {\n",
    "               \"type\": \"column\", \n",
    "               \"content\": \"vendorid\"\n",
    "              },\n",
    "              {\n",
    "               \"type\": \"column\",\n",
    "               \"content\": \"vendor_id\"\n",
    "              }\n",
    "             ],\n",
    "\n",
    " ...\n",
    " \n",
    " \"store_and_fwd_flag\": [\n",
    "                        {\n",
    "                         \"type\": \"column\", \n",
    "                         \"content\": \"store_and_fwd_flag\"\n",
    "                        },\n",
    "                        {\n",
    "                         \"type\": \"column\", \n",
    "                         \"content\": \"store_and_forward\"\n",
    "                        }\n",
    "                       ],\n",
    "\n",
    " \"pulocationid\": [\n",
    "                  {\n",
    "                   \"type\": \"column\", \n",
    "                   \"content\": \"pulocationid\"\n",
    "                  },\n",
    "                  {\n",
    "                   \"type\": \"function\",\n",
    "                   \"content\": {\n",
    "                               \"func_name\": \"compute_location_id\",\n",
    "                               \"params\": [\"pickup_longitude\", \"pickup_latitude\"]\n",
    "                              }\n",
    "                  },\n",
    "                  {\n",
    "                   \"type\": \"function\",\n",
    "                   \"content\": {\n",
    "                               \"func_name\": \"compute_location_id\",\n",
    "                               \"params\": [\"start_lon\", \"start_lat\"]\n",
    "                              }\n",
    "                  }\n",
    "                 ], \n",
    "                         \n",
    " ...\n",
    "}\n",
    "\n",
    "```"
   ]
  },
  {
   "cell_type": "markdown",
   "metadata": {},
   "source": [
    "In this json, the keys are the entries in the reference scheme and the values are _aliases_ of the key. An alias has a different name but represents in another file the same data as the key. There are several types of aliases :\n",
    "\n",
    "* *column* : the data is retrieved from another column whose name is specified by _content_.\n",
    "* *function* : the data is calculated from the data of several other columns. The name of the function is the name of columns-parameters are specified by _content_.\n",
    "\n",
    "The function will simply read the json and loop through its keys. For each key, it checks either that the column name or parameter names are in the wrong schema. If this is the case it retrieves the associated data and copies/calculates the value to be associated with the key in the new good schema.\n",
    "\n",
    "In our case, there will be column name changes and a single multi-column function that transforms geographic coordinates (latitude, longitude) into an area identifier. This function needs another parameter other than column names: a dataframe geopandas of geographical areas. The integration function must allow this parameter to be passed."
   ]
  },
  {
   "cell_type": "code",
   "execution_count": null,
   "metadata": {},
   "outputs": [],
   "source": [
    "def integrate(data, schema, integration_conf, params_f):\n",
    "\n",
    "    \"\"\"\n",
    "    Transforms data into the desired schema \n",
    "    by following the configuration\n",
    "\n",
    "    :param data: list of original data\n",
    "    :param schema: schema of original data\n",
    "    :param integration_conf: dict with the configuration\n",
    "    :param params_f: params for functions of columns\n",
    "    \"\"\"\n",
    "\n",
    "    data = dict(zip(schema, data))\n",
    "    t_data = dict() # transformed data\n",
    "\n",
    "    # loop through all the columns of the reference schema\n",
    "    for column, alias_list in integration_conf.items():\n",
    "        found = False\n",
    "\n",
    "        # loop through all alias (column or function)\n",
    "        for alias in alias_list:\n",
    "            category = alias['type']\n",
    "            content = alias['content']\n",
    "\n",
    "            # check category of the alias\n",
    "            # the alias is an other column name\n",
    "            if category == 'column':\n",
    "\n",
    "                # check that this name is in of the schema data\n",
    "                if content in list(data.keys()):\n",
    "                    t_data[column] = data[content]\n",
    "                    found = True\n",
    "                    break\n",
    "\n",
    "            # the alias is a function with other column name as param\n",
    "            elif category == 'function':\n",
    "\n",
    "                func_name = content['func_name']\n",
    "                param_names = content['params']\n",
    "                params = []\n",
    "\n",
    "                # check that all the params are in the schema of the data\n",
    "                eval_func = True\n",
    "                for param_name in param_names:\n",
    "                    if param_name not in list(data.keys()):\n",
    "                        eval_func = False\n",
    "                    else:\n",
    "                        params.append(data[param_name])\n",
    "\n",
    "                # eval the function if all the params are there\n",
    "                if eval_func :\n",
    "                    eval(\"dkdkdk\")\n",
    "                    \n",
    "                    \n",
    "        # if there is no valid alias add empty data\n",
    "        if not found:\n",
    "            t_data[column] = ''\n",
    "\n",
    "    data = list(t_data.values())\n",
    "\n",
    "    return data"
   ]
  },
  {
   "cell_type": "markdown",
   "metadata": {},
   "source": [
    "The biggest advantage of this function is its flexibility. I.e. if in the future a schema transformation is different (an extra column, changing date format, new taxi zone, ...), the function will remain valid. We have in fact simply separated the fixed part from the variable part of the transformation. The fixed part is the code of the function and the variable part is passed as a parameter.\n",
    "\n",
    "To make this flexibility possible, we use the python function _eval()_ which allows to evaluate python code passed as a string. For functions with several columns, a string \"name_of_the_function(param1, param2, ...)\" is constructed from the config file and passed to the _eval_ function.\n",
    "\n",
    "In the rest of the project, we will still have to implement functions that work with rows, to group these functions, we define a static Row class where each of these functions will be a static method. This class can be found in the _row.py_ file."
   ]
  },
  {
   "cell_type": "markdown",
   "metadata": {},
   "source": [
    "### 2.3. Implementation with spark"
   ]
  },
  {
   "cell_type": "markdown",
   "metadata": {},
   "source": [
    "Comme l'intégration d'un row est indépendant de l'intégration d'un autre row, on va pouvoir utiliser spark pour parraléliser cette opération. \n",
    "\n",
    "1. lecture le fichier csv dans HDFS\n",
    "2. application de la fonction _process_ aux rows : elle transforme un _string_ en _list_\n",
    "3. application la fonction _integrate_ aux rows\n",
    "4. application de la fonction _join_ aux rows : elle transforme une _list_ en _string_\n",
    "5. écriture des rows dans HDFS"
   ]
  },
  {
   "cell_type": "markdown",
   "metadata": {},
   "source": [
    "<img src=\"img/spark.png\" width=\"800\" align=\"left\"/>"
   ]
  },
  {
   "cell_type": "code",
   "execution_count": 19,
   "metadata": {},
   "outputs": [],
   "source": [
    "# spark configuration\n",
    "sc.addFile(\"./row.py\")\n",
    "sc.addFile(\"./transformations.py\")\n",
    "sc.addFile(\"./shape_files/location.shp\")\n",
    "sc.addFile(\"./shape_files/location.dbf\")\n",
    "sc.addFile(\"./shape_files/location.shx\")\n",
    "sys.path.insert(0,SparkFiles.getRootDirectory())"
   ]
  },
  {
   "cell_type": "code",
   "execution_count": 26,
   "metadata": {
    "scrolled": true
   },
   "outputs": [],
   "source": [
    "import json\n",
    "from row import Row\n",
    "import pandas as pd\n",
    "import geopandas as gpd\n",
    "from shapely.geometry import Point\n",
    "from pyspark import SparkFiles\n",
    "\n",
    "# load integration configuration\n",
    "integration_confs = dict()\n",
    "conf_filenames = sorted(glob.glob('/home/ceci18/INFOH600-project/integration_conf/*.json'))\n",
    "for conf_filename in conf_filenames:    \n",
    "    with open(conf_filename, 'r') as f:\n",
    "        integration_conf = json.load(f)\n",
    "        dataset_name = os.path.basename(conf_filename)[:-5]\n",
    "        integration_confs[dataset_name] = integration_conf\n",
    "\n",
    "# get all the filename\n",
    "hdfs_path = 'hdfs://public00:8020/user/hpda000034/infoh600/sampled'\n",
    "local_path = '/home/hpda00034/infoh600/sampled'\n",
    "#filenames = sorted(glob.glob(\"{}/yellow_*.csv\".format(local_path)))\n",
    "#filenames = [os.path.basename(filename) for filename in filenames]\n",
    "filenames = [\"green_tripdata_2014-01.csv\", \"green_tripdata_2014-02.csv\", \"green_tripdata_2016-07.csv\"]\n",
    "\n",
    "# construct a rtree index with the geopanda df\n",
    "zones = gpd.read_file(\"./shape_files/location.shp\")\n",
    "zones.set_geometry('geometry', crs=(u'epsg:'+str(4326)), inplace=True)\n",
    "\n",
    "# get the right schema \n",
    "right_schema = list(integration_confs['yellow'].keys())\n",
    "\n",
    "# Create one big rdd that holds all of the file's contents\n",
    "for filename in filenames:\n",
    "    # write the right schema on the first line\n",
    "    green_rdd = sc.parallelize([','.join(right_schema)])\n",
    "    \n",
    "    # get the schema with the local file\n",
    "    file = open('{}/{}'.format(local_path, filename), 'r')\n",
    "    schema = file.readline().replace('\\n', '')\n",
    "    schema = schema.replace('\"','').replace(\"'\", '').lower().split(',')\n",
    "    \n",
    "    rdd = sc.textFile('{}/{}'.format(hdfs_path, filename))\n",
    "    # Each original file contains also the header (schema). \n",
    "    # We ignore this first line and convert everything else\n",
    "    rdd = rdd.zipWithIndex() \\\n",
    "             .filter(lambda x:x[1] > 1) \\\n",
    "             .map(lambda x: Row.process(x[0]))\\\n",
    "             .map(lambda x: Row.integrate(x, schema, integration_confs['yellow'], zones))\\\n",
    "             .map(lambda x: Row.join(x))\n",
    "            # .map(lambda x: ','.join(x))\n",
    "    # add it to the rdd that we already have\n",
    "    green_rdd = green_rdd.union(rdd)\n",
    "\n",
    "\n",
    "    # saves this to HDFS in your home HDFS folder\n",
    "    green_rdd.saveAsTextFile('./integrated/yellow/{}'.format(filename[:-4]))"
   ]
  },
  {
   "cell_type": "code",
   "execution_count": 17,
   "metadata": {},
   "outputs": [],
   "source": [
    "# Stop spark when we are done with it! This frees resources on the cluster so that you peers can also use the cluster\n",
    "try: \n",
    "    spark.stop()\n",
    "except: \n",
    "    pass"
   ]
  },
  {
   "cell_type": "markdown",
   "metadata": {},
   "source": [
    "### 3. Cleaning"
   ]
  },
  {
   "cell_type": "markdown",
   "metadata": {},
   "source": [
    "This step will allow you to remove invalid data from the datasets. An example of invalid data is a negative value for a data representing a distance. For each column in the 4 sub-datasets, assertion are maded based on the TLC specifications."
   ]
  },
  {
   "cell_type": "markdown",
   "metadata": {},
   "source": [
    "### 3.1. Identification of the assertions"
   ]
  },
  {
   "cell_type": "markdown",
   "metadata": {},
   "source": [
    "<img src=\"img/assertion_fhv_fhvhv.png\" width=\"800\" align=\"left\"/>"
   ]
  },
  {
   "cell_type": "markdown",
   "metadata": {},
   "source": [
    "<img src=\"img/assertion_green.png\" width=\"800\" align=\"left\"/>"
   ]
  },
  {
   "cell_type": "markdown",
   "metadata": {},
   "source": [
    "<img src=\"img/assertion_yellow.png\" width=\"800\" align=\"left\"/>"
   ]
  },
  {
   "cell_type": "markdown",
   "metadata": {},
   "source": [
    "### 3.2. Implementation"
   ]
  },
  {
   "cell_type": "markdown",
   "metadata": {},
   "source": [
    "A python module that checks such assertion exists: _panda_schema_. This module is very easy to use, an example is given for the FHV dataset (the implementation for the other sub-datasets can be found in the _cleaning.py_ file)."
   ]
  },
  {
   "cell_type": "code",
   "execution_count": null,
   "metadata": {},
   "outputs": [],
   "source": [
    "from pandas_schema import Column, Schema\n",
    "import pandas_schema.validation as validation \n",
    "\n",
    "# validation schema for fhv dataset\n",
    "schema_fhv = Schema([\n",
    "    Column('dispatching_base_num', \n",
    "           [validation.MatchesPatternValidation('^B[0-9]{5}$')], \n",
    "           allow_empty=True),\n",
    "    Column('pickup_datetime', \n",
    "           [validation.DateFormatValidation('%Y-%m-%d %H:%M:%S')],\n",
    "           allow_empty=True),\n",
    "    Column('dropoff_datetime', \n",
    "           [validation.DateFormatValidation('%Y-%m-%d %H:%M:%S')],\n",
    "           allow_empty=True),\n",
    "    Column('pulocationid',\n",
    "           [validation.InRangeValidation(1, 266)],\n",
    "           allow_empty=True),\n",
    "    Column('dolocationid', \n",
    "           [validation.InRangeValidation(1, 266)],\n",
    "           allow_empty=True),\n",
    "    Column('sr_flag', \n",
    "           [validation.InListValidation([1, None])],\n",
    "           allow_empty=True)\n",
    "])\n",
    "\n",
    "\n",
    "def validate(data, schema, validation_schema):\n",
    "\n",
    "    \"\"\"\n",
    "    Validate the entries of the row with\n",
    "    the validation schema\n",
    "\n",
    "    :param data: data to validate\n",
    "    :param schema: the csv schema of the data to validate\n",
    "    :param validation_schema: schema to validate the data \n",
    "    :return: boolean, true if validated\n",
    "    \"\"\"\n",
    "\n",
    "    # validate the data\n",
    "    df = pd.DataFrame([data], columns=schema)\n",
    "    errors = validation_schema.validate(df)\n",
    "\n",
    "    validated = len(errors) == 0\n",
    "\n",
    "    return validated\n",
    "\n"
   ]
  },
  {
   "cell_type": "markdown",
   "metadata": {},
   "source": [
    "the _validate_ function is a static method of the Row class"
   ]
  },
  {
   "cell_type": "markdown",
   "metadata": {},
   "source": [
    "### 3.3. Implementation with spark"
   ]
  },
  {
   "cell_type": "markdown",
   "metadata": {},
   "source": [
    "<img src=\"img/spark_validation.png\" width=\"800\" align=\"left\"/>"
   ]
  },
  {
   "cell_type": "code",
   "execution_count": null,
   "metadata": {},
   "outputs": [],
   "source": [
    "import json\n",
    "from row import Row\n",
    "import pandas as pd\n",
    "import geopandas as gpd\n",
    "from shapely.geometry import Point\n",
    "from pyspark import SparkFiles\n",
    "\n",
    "# load integration configuration\n",
    "integration_confs = dict()\n",
    "conf_filenames = sorted(glob.glob('/home/ceci18/INFOH600-project/integration_conf/*.json'))\n",
    "for conf_filename in conf_filenames:    \n",
    "    with open(conf_filename, 'r') as f:\n",
    "        integration_conf = json.load(f)\n",
    "        dataset_name = os.path.basename(conf_filename)[:-5]\n",
    "        integration_confs[dataset_name] = integration_conf\n",
    "\n",
    "# get all the filename\n",
    "hdfs_path = 'hdfs://public00:8020/user/hpda000034/infoh600/sampled'\n",
    "local_path = '/home/hpda00034/infoh600/sampled'\n",
    "#filenames = sorted(glob.glob(\"{}/yellow_*.csv\".format(local_path)))\n",
    "#filenames = [os.path.basename(filename) for filename in filenames]\n",
    "filenames = [\"green_tripdata_2014-01.csv\", \"green_tripdata_2014-02.csv\", \"green_tripdata_2016-07.csv\"]\n",
    "schema = []\n",
    "\n",
    "# Create one big rdd that holds all of the file's contents\n",
    "for filename in filenames:\n",
    "    # write the right schema on the first line\n",
    "    validated_rdd = sc.parallelize([','.join(schema)])\n",
    "    unvalidated_rdd = sc.parallelize([','.join(schema)])\n",
    "    \n",
    "    # get the schema with the local file\n",
    "    file = open('{}/{}'.format(local_path, filename), 'r')\n",
    "    schema = file.readline().replace('\\n', '')\n",
    "    schema = schema.replace('\"','').replace(\"'\", '').lower().split(',')\n",
    "    \n",
    "    rdd = sc.textFile('{}/{}'.format(hdfs_path, filename))\n",
    "    # Each original file contains also the header (schema). \n",
    "    # We ignore this first line and convert everything else\n",
    "    rdd = rdd.zipWithIndex() \\\n",
    "             .filter(lambda x:x[1] > 1) \\\n",
    "             .map(lambda x: Row.process(x[0]))\\\n",
    "             .persist()\n",
    "    \n",
    "    validated = rdd.map(lambda x: Row.validate(x, schema, validation_schema))\\\n",
    "                   .map(lambda x: Row.join(x))\n",
    "    # add it to the rdd that we already have\n",
    "    validated_rdd = total_rdd.union(validated)\n",
    "    \n",
    "    unvalidated = rdd.map(lambda x: Row.validate(x, schema, validation_schema))\\\n",
    "                     .map(lambda x: Row.join(x))\n",
    "    # add it to the rdd that we already have\n",
    "    unvalidated_rdd = total_rdd.union(validated)\n",
    "\n",
    "\n",
    "    # saves this to HDFS in your home HDFS folder\n",
    "    green_rdd.saveAsTextFile('./integrated/yellow/{}'.format(filename[:-4]))"
   ]
  },
  {
   "cell_type": "markdown",
   "metadata": {},
   "source": [
    "### 4. Analysis"
   ]
  },
  {
   "cell_type": "code",
   "execution_count": null,
   "metadata": {},
   "outputs": [],
   "source": []
  }
 ],
 "metadata": {
  "kernelspec": {
   "display_name": "Python 3",
   "language": "python",
   "name": "python3"
  },
  "language_info": {
   "codemirror_mode": {
    "name": "ipython",
    "version": 3
   },
   "file_extension": ".py",
   "mimetype": "text/x-python",
   "name": "python",
   "nbconvert_exporter": "python",
   "pygments_lexer": "ipython3",
   "version": "3.7.3"
  }
 },
 "nbformat": 4,
 "nbformat_minor": 2
}
