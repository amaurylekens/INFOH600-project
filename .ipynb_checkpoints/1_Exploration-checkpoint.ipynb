{
 "cells": [
  {
   "cell_type": "markdown",
   "metadata": {},
   "source": [
    "# Projet INFOH600 - Group 10\n",
    "\n",
    "- **Amaury Lekens** (student ID: 000496361)\n",
    "\n",
    "- **Marlene Silva Marchena** (student ID: 000498403)"
   ]
  },
  {
   "cell_type": "markdown",
   "metadata": {},
   "source": [
    "# Sampled Dataset exploration, meta-data collection"
   ]
  },
  {
   "cell_type": "markdown",
   "metadata": {},
   "source": [
    "### 1 Data"
   ]
  },
  {
   "cell_type": "markdown",
   "metadata": {},
   "source": [
    "\n",
    "The data used for this analysis is the TLC trip dataset provided by the New York City Taxi and Limousine Commission (TLC). The data has 4 different sub-datasets types:\n",
    "\n",
    "• **Yellow** taxi records (2009.01 - 2019.06), it contains trip information of New York’s famous yellow\n",
    "taxi cars. <br>\n",
    "• **Green** taxi records (2013.08 - 2019.06), it refers to a so-called ’boro’ taxis — a service introduced to improve taxi service and availability in the boroughs.  <br>\n",
    "• **FHV** records (2015.01 - 2019.11), For Hire Vehicles contains information from services that offer for-hire vehicles (such as Uber, Lyft, Via, and Juno), but also luxury limousine bases.  <br>\n",
    "• **FHVHV** records (2009.02 - 2019.06), the High volume FHV data are FHV offered by services that make more than 10,000 trips per day.\n",
    "\n",
    "For more information about the dataset and the variables of each sub-dataset types see https://www1.nyc.gov/site/tlc/about/tlc-trip-record-data.page"
   ]
  },
  {
   "cell_type": "markdown",
   "metadata": {},
   "source": [
    "### 2. Data Exploration"
   ]
  },
  {
   "cell_type": "markdown",
   "metadata": {},
   "source": [
    "In what follows we are going to create a dataframe containing all the relevant information (metadata) about the files that compose our database. In order to do that, we define first some useful functions."
   ]
  },
  {
   "cell_type": "code",
   "execution_count": 1,
   "metadata": {},
   "outputs": [],
   "source": [
    "# Convenience functions\n",
    "import os\n",
    "import glob\n",
    "import pandas as pd\n",
    "\n",
    "def get_schema(filename):\n",
    "    '''Extracts the schema from the given file\n",
    "    \n",
    "    Assumes that the first line of the file includes the schema\n",
    "    '''\n",
    "    with open(filename, 'r') as f:\n",
    "        return tuple([attr.strip('\" ').lower() for attr in f.readline().strip().split(',')])\n",
    "\n",
    "def get_month(filename):\n",
    "    '''Returns the month that the TCL file reports on.\n",
    "    \n",
    "       Assumes that the filename uses the TLC convensions:\n",
    "       $(fileSource)_tripdata_$(year)-$(month).csv\n",
    "    '''\n",
    "    return int(filename[-6:-4])\n",
    "\n",
    "def get_year(filename):\n",
    "    '''Returns the month that the TCL file reports on. \n",
    "    \n",
    "       Assumes that the filename uses the TLC convensions:\n",
    "       $(fileSource)_tripdata_$(year)-$(month).csv\n",
    "    '''\n",
    "    return int(filename[-11:-7])\n",
    "\n",
    "def get_type(filename):\n",
    "    '''Returns the type of trip that the TCL file reports on (yellow, green, fhv, hvfhv). \n",
    "    \n",
    "       Assumes that the filename uses the TLC convensions:\n",
    "       $(fileSource)_tripdata_$(year)-$(month).csv\n",
    "    '''\n",
    "    basename = os.path.basename(filename)\n",
    "    transport_class = basename.split('_', 1)[0]\n",
    "    return transport_class\n",
    "\n",
    "def get_numrecords(filename):\n",
    "    '''Returns the number of records in a TCL file.\n",
    "       \n",
    "       Equals the number of lines in the file minus one \n",
    "       (the header, which is the schema, not a record)\n",
    "    '''\n",
    "    with open(filename) as f:\n",
    "        lines = 0\n",
    "        for line in f:\n",
    "            lines += 1\n",
    "        return lines - 1                   \n",
    "    \n",
    "def get_metadata(filename):\n",
    "    '''Returns all metadata associated to the `filename` datafile as one big tuple'''\n",
    "    return (filename, \n",
    "            get_type(filename),\n",
    "            get_year(filename),\n",
    "            get_month(filename),\n",
    "            os.path.getsize(filename),\n",
    "            get_numrecords(filename),\n",
    "            get_schema(filename) )"
   ]
  },
  {
   "cell_type": "markdown",
   "metadata": {},
   "source": [
    "With the help of the auxiliar functions defined above, we compute the metadata for each file of our database and save it in a dataframe"
   ]
  },
  {
   "cell_type": "code",
   "execution_count": 2,
   "metadata": {},
   "outputs": [],
   "source": [
    "# Get a sorted list of all files\n",
    "files = sorted(glob.glob(\"/home/marlene/Documents/ULB/CFDS/Final_Project_CFDS/data/sampled/*.csv\"))\n",
    "# Compute the metadata for each such file\n",
    "metadata = [ get_metadata(f) for f in files ]\n",
    "# Put the metadata in a Pandas dataframe\n",
    "metadata_labels = [ 'filename',  'type', 'year', 'month', 'size', 'num_records', 'schema']\n",
    "df = pd.DataFrame.from_records(metadata, columns=metadata_labels)\n",
    "# Save the dataframe\n",
    "df.to_csv('/home/marlene/Documents/ULB/CFDS/Final_Project_CFDS/dataset-description.csv')"
   ]
  },
  {
   "cell_type": "code",
   "execution_count": 6,
   "metadata": {},
   "outputs": [
    {
     "data": {
      "text/html": [
       "<div>\n",
       "<style scoped>\n",
       "    .dataframe tbody tr th:only-of-type {\n",
       "        vertical-align: middle;\n",
       "    }\n",
       "\n",
       "    .dataframe tbody tr th {\n",
       "        vertical-align: top;\n",
       "    }\n",
       "\n",
       "    .dataframe thead th {\n",
       "        text-align: right;\n",
       "    }\n",
       "</style>\n",
       "<table border=\"1\" class=\"dataframe\">\n",
       "  <thead>\n",
       "    <tr style=\"text-align: right;\">\n",
       "      <th></th>\n",
       "      <th>filename</th>\n",
       "      <th>type</th>\n",
       "      <th>year</th>\n",
       "      <th>month</th>\n",
       "      <th>size</th>\n",
       "      <th>num_records</th>\n",
       "      <th>schema</th>\n",
       "    </tr>\n",
       "  </thead>\n",
       "  <tbody>\n",
       "    <tr>\n",
       "      <th>0</th>\n",
       "      <td>/home/marlene/Documents/ULB/CFDS/Final_Project...</td>\n",
       "      <td>fhv</td>\n",
       "      <td>2015</td>\n",
       "      <td>1</td>\n",
       "      <td>4126514</td>\n",
       "      <td>136556</td>\n",
       "      <td>(dispatching_base_num, pickup_date, locationid)</td>\n",
       "    </tr>\n",
       "    <tr>\n",
       "      <th>1</th>\n",
       "      <td>/home/marlene/Documents/ULB/CFDS/Final_Project...</td>\n",
       "      <td>fhv</td>\n",
       "      <td>2015</td>\n",
       "      <td>2</td>\n",
       "      <td>4712489</td>\n",
       "      <td>155514</td>\n",
       "      <td>(dispatching_base_num, pickup_date, locationid)</td>\n",
       "    </tr>\n",
       "    <tr>\n",
       "      <th>2</th>\n",
       "      <td>/home/marlene/Documents/ULB/CFDS/Final_Project...</td>\n",
       "      <td>fhv</td>\n",
       "      <td>2015</td>\n",
       "      <td>3</td>\n",
       "      <td>4922012</td>\n",
       "      <td>163232</td>\n",
       "      <td>(dispatching_base_num, pickup_date, locationid)</td>\n",
       "    </tr>\n",
       "    <tr>\n",
       "      <th>3</th>\n",
       "      <td>/home/marlene/Documents/ULB/CFDS/Final_Project...</td>\n",
       "      <td>fhv</td>\n",
       "      <td>2015</td>\n",
       "      <td>4</td>\n",
       "      <td>5845469</td>\n",
       "      <td>195182</td>\n",
       "      <td>(dispatching_base_num, pickup_date, locationid)</td>\n",
       "    </tr>\n",
       "    <tr>\n",
       "      <th>4</th>\n",
       "      <td>/home/marlene/Documents/ULB/CFDS/Final_Project...</td>\n",
       "      <td>fhv</td>\n",
       "      <td>2015</td>\n",
       "      <td>5</td>\n",
       "      <td>6434970</td>\n",
       "      <td>214016</td>\n",
       "      <td>(dispatching_base_num, pickup_date, locationid)</td>\n",
       "    </tr>\n",
       "  </tbody>\n",
       "</table>\n",
       "</div>"
      ],
      "text/plain": [
       "                                            filename type  year  month  \\\n",
       "0  /home/marlene/Documents/ULB/CFDS/Final_Project...  fhv  2015      1   \n",
       "1  /home/marlene/Documents/ULB/CFDS/Final_Project...  fhv  2015      2   \n",
       "2  /home/marlene/Documents/ULB/CFDS/Final_Project...  fhv  2015      3   \n",
       "3  /home/marlene/Documents/ULB/CFDS/Final_Project...  fhv  2015      4   \n",
       "4  /home/marlene/Documents/ULB/CFDS/Final_Project...  fhv  2015      5   \n",
       "\n",
       "      size  num_records                                           schema  \n",
       "0  4126514       136556  (dispatching_base_num, pickup_date, locationid)  \n",
       "1  4712489       155514  (dispatching_base_num, pickup_date, locationid)  \n",
       "2  4922012       163232  (dispatching_base_num, pickup_date, locationid)  \n",
       "3  5845469       195182  (dispatching_base_num, pickup_date, locationid)  \n",
       "4  6434970       214016  (dispatching_base_num, pickup_date, locationid)  "
      ]
     },
     "execution_count": 6,
     "metadata": {},
     "output_type": "execute_result"
    }
   ],
   "source": [
    "df.head()"
   ]
  },
  {
   "cell_type": "markdown",
   "metadata": {},
   "source": [
    "We have a database of 14.876 GB distributed in 261 files. The total number of records (lines) is 122.3 millions. "
   ]
  },
  {
   "cell_type": "code",
   "execution_count": 7,
   "metadata": {},
   "outputs": [
    {
     "data": {
      "text/plain": [
       "count    2.610000e+02\n",
       "mean     5.699806e+07\n",
       "std      5.040927e+07\n",
       "min      5.787400e+04\n",
       "25%      1.033738e+07\n",
       "50%      4.048584e+07\n",
       "75%      1.111178e+08\n",
       "max      1.489577e+08\n",
       "Name: size, dtype: float64"
      ]
     },
     "execution_count": 7,
     "metadata": {},
     "output_type": "execute_result"
    }
   ],
   "source": [
    "df['size'].describe()"
   ]
  },
  {
   "cell_type": "code",
   "execution_count": 29,
   "metadata": {
    "scrolled": true
   },
   "outputs": [
    {
     "data": {
      "text/plain": [
       "14876493159"
      ]
     },
     "execution_count": 29,
     "metadata": {},
     "output_type": "execute_result"
    }
   ],
   "source": [
    "df['size'].sum()"
   ]
  },
  {
   "cell_type": "code",
   "execution_count": 30,
   "metadata": {
    "scrolled": true
   },
   "outputs": [
    {
     "data": {
      "text/plain": [
       "122302140"
      ]
     },
     "execution_count": 30,
     "metadata": {},
     "output_type": "execute_result"
    }
   ],
   "source": [
    "df['num_records'].sum()"
   ]
  },
  {
   "cell_type": "markdown",
   "metadata": {},
   "source": [
    "Here we define a pandas dataframe that contains all the files + their metadata for each sub-dataset"
   ]
  },
  {
   "cell_type": "code",
   "execution_count": 28,
   "metadata": {},
   "outputs": [],
   "source": [
    "fhv_files = df[ df['type'] == 'fhv']\n",
    "fhvhv_files = df[ df['type'] == 'fhvhv']\n",
    "green_files = df[ df['type'] == 'green']\n",
    "yellow_files = df[ df['type'] == 'yellow']"
   ]
  },
  {
   "cell_type": "markdown",
   "metadata": {},
   "source": [
    "#### 2.1 FHV dataset exploration\n"
   ]
  },
  {
   "cell_type": "markdown",
   "metadata": {},
   "source": [
    "The fhv sub-dataset has a size of 1.821 GB with 34.5 million records (lines)"
   ]
  },
  {
   "cell_type": "code",
   "execution_count": 27,
   "metadata": {},
   "outputs": [
    {
     "data": {
      "text/html": [
       "<div>\n",
       "<style scoped>\n",
       "    .dataframe tbody tr th:only-of-type {\n",
       "        vertical-align: middle;\n",
       "    }\n",
       "\n",
       "    .dataframe tbody tr th {\n",
       "        vertical-align: top;\n",
       "    }\n",
       "\n",
       "    .dataframe thead th {\n",
       "        text-align: right;\n",
       "    }\n",
       "</style>\n",
       "<table border=\"1\" class=\"dataframe\">\n",
       "  <thead>\n",
       "    <tr style=\"text-align: right;\">\n",
       "      <th></th>\n",
       "      <th>year</th>\n",
       "      <th>month</th>\n",
       "      <th>size</th>\n",
       "      <th>num_records</th>\n",
       "    </tr>\n",
       "  </thead>\n",
       "  <tbody>\n",
       "    <tr>\n",
       "      <th>count</th>\n",
       "      <td>59.000000</td>\n",
       "      <td>59.000000</td>\n",
       "      <td>5.900000e+01</td>\n",
       "      <td>5.900000e+01</td>\n",
       "    </tr>\n",
       "    <tr>\n",
       "      <th>mean</th>\n",
       "      <td>2016.966102</td>\n",
       "      <td>6.406780</td>\n",
       "      <td>3.086932e+07</td>\n",
       "      <td>5.843254e+05</td>\n",
       "    </tr>\n",
       "    <tr>\n",
       "      <th>std</th>\n",
       "      <td>1.413800</td>\n",
       "      <td>3.434704</td>\n",
       "      <td>2.828548e+07</td>\n",
       "      <td>3.706679e+05</td>\n",
       "    </tr>\n",
       "    <tr>\n",
       "      <th>min</th>\n",
       "      <td>2015.000000</td>\n",
       "      <td>1.000000</td>\n",
       "      <td>2.884698e+06</td>\n",
       "      <td>5.187500e+04</td>\n",
       "    </tr>\n",
       "    <tr>\n",
       "      <th>25%</th>\n",
       "      <td>2016.000000</td>\n",
       "      <td>3.500000</td>\n",
       "      <td>6.404827e+06</td>\n",
       "      <td>2.129695e+05</td>\n",
       "    </tr>\n",
       "    <tr>\n",
       "      <th>50%</th>\n",
       "      <td>2017.000000</td>\n",
       "      <td>6.000000</td>\n",
       "      <td>1.684912e+07</td>\n",
       "      <td>5.644280e+05</td>\n",
       "    </tr>\n",
       "    <tr>\n",
       "      <th>75%</th>\n",
       "      <td>2018.000000</td>\n",
       "      <td>9.000000</td>\n",
       "      <td>5.992556e+07</td>\n",
       "      <td>8.977395e+05</td>\n",
       "    </tr>\n",
       "    <tr>\n",
       "      <th>max</th>\n",
       "      <td>2019.000000</td>\n",
       "      <td>12.000000</td>\n",
       "      <td>8.348302e+07</td>\n",
       "      <td>1.191813e+06</td>\n",
       "    </tr>\n",
       "  </tbody>\n",
       "</table>\n",
       "</div>"
      ],
      "text/plain": [
       "              year      month          size   num_records\n",
       "count    59.000000  59.000000  5.900000e+01  5.900000e+01\n",
       "mean   2016.966102   6.406780  3.086932e+07  5.843254e+05\n",
       "std       1.413800   3.434704  2.828548e+07  3.706679e+05\n",
       "min    2015.000000   1.000000  2.884698e+06  5.187500e+04\n",
       "25%    2016.000000   3.500000  6.404827e+06  2.129695e+05\n",
       "50%    2017.000000   6.000000  1.684912e+07  5.644280e+05\n",
       "75%    2018.000000   9.000000  5.992556e+07  8.977395e+05\n",
       "max    2019.000000  12.000000  8.348302e+07  1.191813e+06"
      ]
     },
     "execution_count": 27,
     "metadata": {},
     "output_type": "execute_result"
    }
   ],
   "source": [
    "fhv_files.describe()"
   ]
  },
  {
   "cell_type": "code",
   "execution_count": 13,
   "metadata": {},
   "outputs": [
    {
     "data": {
      "text/plain": [
       "1821290072"
      ]
     },
     "execution_count": 13,
     "metadata": {},
     "output_type": "execute_result"
    }
   ],
   "source": [
    "fhv_files['size'].sum()"
   ]
  },
  {
   "cell_type": "code",
   "execution_count": 15,
   "metadata": {
    "scrolled": true
   },
   "outputs": [
    {
     "data": {
      "text/plain": [
       "34475199"
      ]
     },
     "execution_count": 15,
     "metadata": {},
     "output_type": "execute_result"
    }
   ],
   "source": [
    "fhv_files['num_records'].sum()"
   ]
  },
  {
   "cell_type": "markdown",
   "metadata": {},
   "source": [
    "#### 2.2. FHVHV dataset exploration"
   ]
  },
  {
   "cell_type": "markdown",
   "metadata": {},
   "source": [
    "The fhvhv sub-dataset has a size of 0.34 GB with 5.5 million records"
   ]
  },
  {
   "cell_type": "code",
   "execution_count": 16,
   "metadata": {
    "scrolled": false
   },
   "outputs": [
    {
     "data": {
      "text/html": [
       "<div>\n",
       "<style scoped>\n",
       "    .dataframe tbody tr th:only-of-type {\n",
       "        vertical-align: middle;\n",
       "    }\n",
       "\n",
       "    .dataframe tbody tr th {\n",
       "        vertical-align: top;\n",
       "    }\n",
       "\n",
       "    .dataframe thead th {\n",
       "        text-align: right;\n",
       "    }\n",
       "</style>\n",
       "<table border=\"1\" class=\"dataframe\">\n",
       "  <thead>\n",
       "    <tr style=\"text-align: right;\">\n",
       "      <th></th>\n",
       "      <th>year</th>\n",
       "      <th>month</th>\n",
       "      <th>size</th>\n",
       "      <th>num_records</th>\n",
       "    </tr>\n",
       "  </thead>\n",
       "  <tbody>\n",
       "    <tr>\n",
       "      <th>count</th>\n",
       "      <td>5.0</td>\n",
       "      <td>5.000000</td>\n",
       "      <td>5.000000e+00</td>\n",
       "      <td>5.000000e+00</td>\n",
       "    </tr>\n",
       "    <tr>\n",
       "      <th>mean</th>\n",
       "      <td>2019.0</td>\n",
       "      <td>4.000000</td>\n",
       "      <td>6.805515e+07</td>\n",
       "      <td>1.089970e+06</td>\n",
       "    </tr>\n",
       "    <tr>\n",
       "      <th>std</th>\n",
       "      <td>0.0</td>\n",
       "      <td>1.581139</td>\n",
       "      <td>4.374677e+06</td>\n",
       "      <td>7.018486e+04</td>\n",
       "    </tr>\n",
       "    <tr>\n",
       "      <th>min</th>\n",
       "      <td>2019.0</td>\n",
       "      <td>2.000000</td>\n",
       "      <td>6.294775e+07</td>\n",
       "      <td>1.007262e+06</td>\n",
       "    </tr>\n",
       "    <tr>\n",
       "      <th>25%</th>\n",
       "      <td>2019.0</td>\n",
       "      <td>3.000000</td>\n",
       "      <td>6.545350e+07</td>\n",
       "      <td>1.049133e+06</td>\n",
       "    </tr>\n",
       "    <tr>\n",
       "      <th>50%</th>\n",
       "      <td>2019.0</td>\n",
       "      <td>4.000000</td>\n",
       "      <td>6.778205e+07</td>\n",
       "      <td>1.085520e+06</td>\n",
       "    </tr>\n",
       "    <tr>\n",
       "      <th>75%</th>\n",
       "      <td>2019.0</td>\n",
       "      <td>5.000000</td>\n",
       "      <td>6.962081e+07</td>\n",
       "      <td>1.115337e+06</td>\n",
       "    </tr>\n",
       "    <tr>\n",
       "      <th>max</th>\n",
       "      <td>2019.0</td>\n",
       "      <td>6.000000</td>\n",
       "      <td>7.447163e+07</td>\n",
       "      <td>1.192596e+06</td>\n",
       "    </tr>\n",
       "  </tbody>\n",
       "</table>\n",
       "</div>"
      ],
      "text/plain": [
       "         year     month          size   num_records\n",
       "count     5.0  5.000000  5.000000e+00  5.000000e+00\n",
       "mean   2019.0  4.000000  6.805515e+07  1.089970e+06\n",
       "std       0.0  1.581139  4.374677e+06  7.018486e+04\n",
       "min    2019.0  2.000000  6.294775e+07  1.007262e+06\n",
       "25%    2019.0  3.000000  6.545350e+07  1.049133e+06\n",
       "50%    2019.0  4.000000  6.778205e+07  1.085520e+06\n",
       "75%    2019.0  5.000000  6.962081e+07  1.115337e+06\n",
       "max    2019.0  6.000000  7.447163e+07  1.192596e+06"
      ]
     },
     "execution_count": 16,
     "metadata": {},
     "output_type": "execute_result"
    }
   ],
   "source": [
    "fhvhv_files.describe()"
   ]
  },
  {
   "cell_type": "code",
   "execution_count": 17,
   "metadata": {
    "scrolled": true
   },
   "outputs": [
    {
     "data": {
      "text/plain": [
       "340275757"
      ]
     },
     "execution_count": 17,
     "metadata": {},
     "output_type": "execute_result"
    }
   ],
   "source": [
    "fhvhv_files['size'].sum()"
   ]
  },
  {
   "cell_type": "code",
   "execution_count": 18,
   "metadata": {},
   "outputs": [
    {
     "data": {
      "text/plain": [
       "5449848"
      ]
     },
     "execution_count": 18,
     "metadata": {},
     "output_type": "execute_result"
    }
   ],
   "source": [
    "fhvhv_files['num_records'].sum()"
   ]
  },
  {
   "cell_type": "markdown",
   "metadata": {},
   "source": [
    "#### 2.3. Green dataset exploration"
   ]
  },
  {
   "cell_type": "markdown",
   "metadata": {},
   "source": [
    "The green sub-dataset has a size of 0.494 GB with 3.8 million records"
   ]
  },
  {
   "cell_type": "code",
   "execution_count": 19,
   "metadata": {
    "scrolled": false
   },
   "outputs": [
    {
     "data": {
      "text/html": [
       "<div>\n",
       "<style scoped>\n",
       "    .dataframe tbody tr th:only-of-type {\n",
       "        vertical-align: middle;\n",
       "    }\n",
       "\n",
       "    .dataframe tbody tr th {\n",
       "        vertical-align: top;\n",
       "    }\n",
       "\n",
       "    .dataframe thead th {\n",
       "        text-align: right;\n",
       "    }\n",
       "</style>\n",
       "<table border=\"1\" class=\"dataframe\">\n",
       "  <thead>\n",
       "    <tr style=\"text-align: right;\">\n",
       "      <th></th>\n",
       "      <th>year</th>\n",
       "      <th>month</th>\n",
       "      <th>size</th>\n",
       "      <th>num_records</th>\n",
       "    </tr>\n",
       "  </thead>\n",
       "  <tbody>\n",
       "    <tr>\n",
       "      <th>count</th>\n",
       "      <td>71.000000</td>\n",
       "      <td>71.000000</td>\n",
       "      <td>7.100000e+01</td>\n",
       "      <td>71.000000</td>\n",
       "    </tr>\n",
       "    <tr>\n",
       "      <th>mean</th>\n",
       "      <td>2016.042254</td>\n",
       "      <td>6.492958</td>\n",
       "      <td>6.953828e+06</td>\n",
       "      <td>53537.577465</td>\n",
       "    </tr>\n",
       "    <tr>\n",
       "      <th>std</th>\n",
       "      <td>1.768265</td>\n",
       "      <td>3.500503</td>\n",
       "      <td>4.205176e+06</td>\n",
       "      <td>21385.229774</td>\n",
       "    </tr>\n",
       "    <tr>\n",
       "      <th>min</th>\n",
       "      <td>2013.000000</td>\n",
       "      <td>1.000000</td>\n",
       "      <td>5.787400e+04</td>\n",
       "      <td>390.000000</td>\n",
       "    </tr>\n",
       "    <tr>\n",
       "      <th>25%</th>\n",
       "      <td>2015.000000</td>\n",
       "      <td>3.500000</td>\n",
       "      <td>3.446216e+06</td>\n",
       "      <td>37654.000000</td>\n",
       "    </tr>\n",
       "    <tr>\n",
       "      <th>50%</th>\n",
       "      <td>2016.000000</td>\n",
       "      <td>6.000000</td>\n",
       "      <td>5.173788e+06</td>\n",
       "      <td>53869.000000</td>\n",
       "    </tr>\n",
       "    <tr>\n",
       "      <th>75%</th>\n",
       "      <td>2017.500000</td>\n",
       "      <td>9.500000</td>\n",
       "      <td>1.165732e+07</td>\n",
       "      <td>74096.500000</td>\n",
       "    </tr>\n",
       "    <tr>\n",
       "      <th>max</th>\n",
       "      <td>2019.000000</td>\n",
       "      <td>12.000000</td>\n",
       "      <td>1.426714e+07</td>\n",
       "      <td>88661.000000</td>\n",
       "    </tr>\n",
       "  </tbody>\n",
       "</table>\n",
       "</div>"
      ],
      "text/plain": [
       "              year      month          size   num_records\n",
       "count    71.000000  71.000000  7.100000e+01     71.000000\n",
       "mean   2016.042254   6.492958  6.953828e+06  53537.577465\n",
       "std       1.768265   3.500503  4.205176e+06  21385.229774\n",
       "min    2013.000000   1.000000  5.787400e+04    390.000000\n",
       "25%    2015.000000   3.500000  3.446216e+06  37654.000000\n",
       "50%    2016.000000   6.000000  5.173788e+06  53869.000000\n",
       "75%    2017.500000   9.500000  1.165732e+07  74096.500000\n",
       "max    2019.000000  12.000000  1.426714e+07  88661.000000"
      ]
     },
     "execution_count": 19,
     "metadata": {},
     "output_type": "execute_result"
    }
   ],
   "source": [
    "green_files.describe()"
   ]
  },
  {
   "cell_type": "code",
   "execution_count": 20,
   "metadata": {},
   "outputs": [
    {
     "data": {
      "text/plain": [
       "493721820"
      ]
     },
     "execution_count": 20,
     "metadata": {},
     "output_type": "execute_result"
    }
   ],
   "source": [
    "green_files['size'].sum()"
   ]
  },
  {
   "cell_type": "code",
   "execution_count": 21,
   "metadata": {},
   "outputs": [
    {
     "data": {
      "text/plain": [
       "3801168"
      ]
     },
     "execution_count": 21,
     "metadata": {},
     "output_type": "execute_result"
    }
   ],
   "source": [
    "green_files['num_records'].sum()"
   ]
  },
  {
   "cell_type": "markdown",
   "metadata": {},
   "source": [
    "#### 2.4. Yellow dataset exploration"
   ]
  },
  {
   "cell_type": "markdown",
   "metadata": {},
   "source": [
    "The yellow sub-dataset has a size of 12.221 GB with 78.58 million records"
   ]
  },
  {
   "cell_type": "code",
   "execution_count": 22,
   "metadata": {
    "scrolled": false
   },
   "outputs": [
    {
     "data": {
      "text/html": [
       "<div>\n",
       "<style scoped>\n",
       "    .dataframe tbody tr th:only-of-type {\n",
       "        vertical-align: middle;\n",
       "    }\n",
       "\n",
       "    .dataframe tbody tr th {\n",
       "        vertical-align: top;\n",
       "    }\n",
       "\n",
       "    .dataframe thead th {\n",
       "        text-align: right;\n",
       "    }\n",
       "</style>\n",
       "<table border=\"1\" class=\"dataframe\">\n",
       "  <thead>\n",
       "    <tr style=\"text-align: right;\">\n",
       "      <th></th>\n",
       "      <th>year</th>\n",
       "      <th>month</th>\n",
       "      <th>size</th>\n",
       "      <th>num_records</th>\n",
       "    </tr>\n",
       "  </thead>\n",
       "  <tbody>\n",
       "    <tr>\n",
       "      <th>count</th>\n",
       "      <td>126.000000</td>\n",
       "      <td>126.000000</td>\n",
       "      <td>1.260000e+02</td>\n",
       "      <td>126.000000</td>\n",
       "    </tr>\n",
       "    <tr>\n",
       "      <th>mean</th>\n",
       "      <td>2013.761905</td>\n",
       "      <td>6.357143</td>\n",
       "      <td>9.699369e+07</td>\n",
       "      <td>623618.452381</td>\n",
       "    </tr>\n",
       "    <tr>\n",
       "      <th>std</th>\n",
       "      <td>3.050059</td>\n",
       "      <td>3.462864</td>\n",
       "      <td>3.926369e+07</td>\n",
       "      <td>127771.104832</td>\n",
       "    </tr>\n",
       "    <tr>\n",
       "      <th>min</th>\n",
       "      <td>2009.000000</td>\n",
       "      <td>1.000000</td>\n",
       "      <td>3.179533e+07</td>\n",
       "      <td>346739.000000</td>\n",
       "    </tr>\n",
       "    <tr>\n",
       "      <th>25%</th>\n",
       "      <td>2011.000000</td>\n",
       "      <td>3.000000</td>\n",
       "      <td>4.506957e+07</td>\n",
       "      <td>508161.000000</td>\n",
       "    </tr>\n",
       "    <tr>\n",
       "      <th>50%</th>\n",
       "      <td>2014.000000</td>\n",
       "      <td>6.000000</td>\n",
       "      <td>1.142460e+08</td>\n",
       "      <td>665162.000000</td>\n",
       "    </tr>\n",
       "    <tr>\n",
       "      <th>75%</th>\n",
       "      <td>2016.000000</td>\n",
       "      <td>9.000000</td>\n",
       "      <td>1.290911e+08</td>\n",
       "      <td>728899.000000</td>\n",
       "    </tr>\n",
       "    <tr>\n",
       "      <th>max</th>\n",
       "      <td>2019.000000</td>\n",
       "      <td>12.000000</td>\n",
       "      <td>1.489577e+08</td>\n",
       "      <td>807519.000000</td>\n",
       "    </tr>\n",
       "  </tbody>\n",
       "</table>\n",
       "</div>"
      ],
      "text/plain": [
       "              year       month          size    num_records\n",
       "count   126.000000  126.000000  1.260000e+02     126.000000\n",
       "mean   2013.761905    6.357143  9.699369e+07  623618.452381\n",
       "std       3.050059    3.462864  3.926369e+07  127771.104832\n",
       "min    2009.000000    1.000000  3.179533e+07  346739.000000\n",
       "25%    2011.000000    3.000000  4.506957e+07  508161.000000\n",
       "50%    2014.000000    6.000000  1.142460e+08  665162.000000\n",
       "75%    2016.000000    9.000000  1.290911e+08  728899.000000\n",
       "max    2019.000000   12.000000  1.489577e+08  807519.000000"
      ]
     },
     "execution_count": 22,
     "metadata": {},
     "output_type": "execute_result"
    }
   ],
   "source": [
    "yellow_files.describe()"
   ]
  },
  {
   "cell_type": "code",
   "execution_count": 23,
   "metadata": {},
   "outputs": [
    {
     "data": {
      "text/plain": [
       "12221205510"
      ]
     },
     "execution_count": 23,
     "metadata": {},
     "output_type": "execute_result"
    }
   ],
   "source": [
    "yellow_files['size'].sum()"
   ]
  },
  {
   "cell_type": "code",
   "execution_count": 24,
   "metadata": {},
   "outputs": [
    {
     "data": {
      "text/plain": [
       "78575925"
      ]
     },
     "execution_count": 24,
     "metadata": {},
     "output_type": "execute_result"
    }
   ],
   "source": [
    "yellow_files['num_records'].sum()"
   ]
  },
  {
   "cell_type": "markdown",
   "metadata": {},
   "source": [
    "### 3. Schema evolution"
   ]
  },
  {
   "cell_type": "markdown",
   "metadata": {},
   "source": [
    "We are going to use the analyze_schema_changes() function to extract the schema, to detect if two schemas are the same, and to compute the difference between two schemas. In order to understand the schema evolution along the time, we create for each dataset a new dataframe that adds two new columns: removed and added schema columns. Finally, we present only the lines were a change happened, i.e., something is added or removed from the previous file. Our analysis will focus on the evolution of those changes along the time."
   ]
  },
  {
   "cell_type": "code",
   "execution_count": 15,
   "metadata": {},
   "outputs": [],
   "source": [
    "# defining some useful functions\n",
    "def diff_schema(schema1, schema2):\n",
    "    ''' Compute a tuple containing all elements of schema1 that are not in schema2        \n",
    "    \n",
    "        Example: if  schema1= (\"a\", \"b\", \"c\") and schema2 = (\"b\", \"d\", \"e\") the result = (\"a\", \"c\")\n",
    "    '''\n",
    "    lschema1 = list(schema1) # schema1 is a tuple, convert it to a list\n",
    "    lschema2 = list(schema2) # schema2 is a tuple, convert it to a list\n",
    "    removed = [ x for x in lschema1 if x not in lschema2 ]\n",
    "    return tuple(removed) # removed is a list, convert it back to a tuple\n",
    "\n",
    "def analyze_schema_changes(dataset):\n",
    "    '''Analyze schema changes over time for all files in the dataset\n",
    "    \n",
    "    dataset: A dataframe that lists all files beloning to a given sub-dataset (fhv, yellow, green, ...)\n",
    "             with their metadata, sorted lexicographically on (year, month)\n",
    "    \n",
    "    output: a dataframe that contains for each file two extra columns: removed, and added containing \n",
    "    '''\n",
    "  \n",
    "    prev_schema = () # assume the initial schema is empty\n",
    "    labels = ['type', 'year', 'month',  'schema', 'removed', 'added'] # The column labels of the resulting dataframe\n",
    "\n",
    "    # Solution approach: \n",
    "    dataset = dataset.sort_values(by=['year', 'month'])\n",
    "    removed = []  # list of columns removed\n",
    "    added = []  # list of columns added\n",
    "\n",
    "    for row in range(len(dataset)):\n",
    "        a = dataset.iloc[row]['schema']\n",
    "        b = dataset.iloc[row-1]['schema']\n",
    "        if row != 0:\n",
    "            rm = diff_schema(b,a)\n",
    "            ad = diff_schema(a,b)\n",
    "        else:\n",
    "            rm = prev_schema\n",
    "            ad = prev_schema\n",
    "\n",
    "        removed.append(rm)\n",
    "        added.append(ad)\n",
    "    dataset['removed'] = removed\n",
    "    dataset['added'] = added\n",
    "\n",
    "    # convert the result list to the dataframe\n",
    "    return pd.DataFrame(dataset, columns=labels)"
   ]
  },
  {
   "cell_type": "markdown",
   "metadata": {},
   "source": [
    "#### 3.1. Schema evolution for fhv\n",
    "\n",
    "From the results for the FHV cab data files presented below we observe:\n",
    "\n",
    "- **From 2015.01 to 2016.12** the original schema does not change (dispatching_base_num, pickup_date, locationid)  <br>\n",
    "- **In 2017.01** columns (pickup_date, locationid) were removed and columns (pickup_datetime, dropoff_datetime, pulocationid, dolocationid) <br> were added <br>\n",
    "- **In 2017.07**  column (sr_flag) was added. <br>\n",
    "- **In 2018.01**  column (dispatching_base_number,) was added.  <br>\n",
    "- **In 2019.01**  column (dispatching_base_number,) was removed.  <br>"
   ]
  },
  {
   "cell_type": "code",
   "execution_count": 19,
   "metadata": {},
   "outputs": [
    {
     "data": {
      "text/html": [
       "<div>\n",
       "<style scoped>\n",
       "    .dataframe tbody tr th:only-of-type {\n",
       "        vertical-align: middle;\n",
       "    }\n",
       "\n",
       "    .dataframe tbody tr th {\n",
       "        vertical-align: top;\n",
       "    }\n",
       "\n",
       "    .dataframe thead th {\n",
       "        text-align: right;\n",
       "    }\n",
       "</style>\n",
       "<table border=\"1\" class=\"dataframe\">\n",
       "  <thead>\n",
       "    <tr style=\"text-align: right;\">\n",
       "      <th></th>\n",
       "      <th>type</th>\n",
       "      <th>year</th>\n",
       "      <th>month</th>\n",
       "      <th>schema</th>\n",
       "      <th>removed</th>\n",
       "      <th>added</th>\n",
       "    </tr>\n",
       "  </thead>\n",
       "  <tbody>\n",
       "    <tr>\n",
       "      <th>24</th>\n",
       "      <td>fhv</td>\n",
       "      <td>2017</td>\n",
       "      <td>1</td>\n",
       "      <td>(dispatching_base_num, pickup_datetime, dropof...</td>\n",
       "      <td>(pickup_date, locationid)</td>\n",
       "      <td>(pickup_datetime, dropoff_datetime, pulocation...</td>\n",
       "    </tr>\n",
       "    <tr>\n",
       "      <th>30</th>\n",
       "      <td>fhv</td>\n",
       "      <td>2017</td>\n",
       "      <td>7</td>\n",
       "      <td>(dispatching_base_num, pickup_datetime, dropof...</td>\n",
       "      <td>()</td>\n",
       "      <td>(sr_flag,)</td>\n",
       "    </tr>\n",
       "    <tr>\n",
       "      <th>36</th>\n",
       "      <td>fhv</td>\n",
       "      <td>2018</td>\n",
       "      <td>1</td>\n",
       "      <td>(pickup_datetime, dropoff_datetime, pulocation...</td>\n",
       "      <td>()</td>\n",
       "      <td>(dispatching_base_number,)</td>\n",
       "    </tr>\n",
       "    <tr>\n",
       "      <th>48</th>\n",
       "      <td>fhv</td>\n",
       "      <td>2019</td>\n",
       "      <td>1</td>\n",
       "      <td>(dispatching_base_num, pickup_datetime, dropof...</td>\n",
       "      <td>(dispatching_base_number,)</td>\n",
       "      <td>()</td>\n",
       "    </tr>\n",
       "  </tbody>\n",
       "</table>\n",
       "</div>"
      ],
      "text/plain": [
       "   type  year  month                                             schema  \\\n",
       "24  fhv  2017      1  (dispatching_base_num, pickup_datetime, dropof...   \n",
       "30  fhv  2017      7  (dispatching_base_num, pickup_datetime, dropof...   \n",
       "36  fhv  2018      1  (pickup_datetime, dropoff_datetime, pulocation...   \n",
       "48  fhv  2019      1  (dispatching_base_num, pickup_datetime, dropof...   \n",
       "\n",
       "                       removed  \\\n",
       "24   (pickup_date, locationid)   \n",
       "30                          ()   \n",
       "36                          ()   \n",
       "48  (dispatching_base_number,)   \n",
       "\n",
       "                                                added  \n",
       "24  (pickup_datetime, dropoff_datetime, pulocation...  \n",
       "30                                         (sr_flag,)  \n",
       "36                         (dispatching_base_number,)  \n",
       "48                                                 ()  "
      ]
     },
     "execution_count": 19,
     "metadata": {},
     "output_type": "execute_result"
    }
   ],
   "source": [
    "# Analyze the schema changes\n",
    "fhv_changes = analyze_schema_changes(fhv_files)\n",
    "# Keeping only lines where something is added or removed\n",
    "fhv_delta = fhv_changes[(fhv_changes['added'] != ()) |  (fhv_changes['removed'] != ())]\n",
    "fhv_delta"
   ]
  },
  {
   "cell_type": "markdown",
   "metadata": {},
   "source": [
    "#### 3.2. Schema evolution for fhvhv\n",
    "\n",
    "The FHV cab data schema does not change along the time. The schema original schema (hvfhs_license_num, dispatching_base_num, pickup_datetime, dropoff_datetime, pulocationid, dolocationid, sr_flag) remains the same from 2019.02 to 2019.06"
   ]
  },
  {
   "cell_type": "code",
   "execution_count": 23,
   "metadata": {
    "scrolled": true
   },
   "outputs": [
    {
     "data": {
      "text/html": [
       "<div>\n",
       "<style scoped>\n",
       "    .dataframe tbody tr th:only-of-type {\n",
       "        vertical-align: middle;\n",
       "    }\n",
       "\n",
       "    .dataframe tbody tr th {\n",
       "        vertical-align: top;\n",
       "    }\n",
       "\n",
       "    .dataframe thead th {\n",
       "        text-align: right;\n",
       "    }\n",
       "</style>\n",
       "<table border=\"1\" class=\"dataframe\">\n",
       "  <thead>\n",
       "    <tr style=\"text-align: right;\">\n",
       "      <th></th>\n",
       "      <th>type</th>\n",
       "      <th>year</th>\n",
       "      <th>month</th>\n",
       "      <th>schema</th>\n",
       "      <th>removed</th>\n",
       "      <th>added</th>\n",
       "    </tr>\n",
       "  </thead>\n",
       "  <tbody>\n",
       "  </tbody>\n",
       "</table>\n",
       "</div>"
      ],
      "text/plain": [
       "Empty DataFrame\n",
       "Columns: [type, year, month, schema, removed, added]\n",
       "Index: []"
      ]
     },
     "execution_count": 23,
     "metadata": {},
     "output_type": "execute_result"
    }
   ],
   "source": [
    "# Analyze the schema changes for fhvhv data set\n",
    "fhvhv_changes = analyze_schema_changes(fhvhv_files)\n",
    "fhvhv_delta = fhvhv_changes[(fhvhv_changes['added'] != ()) |  (fhvhv_changes['removed'] != ())]\n",
    "fhvhv_delta"
   ]
  },
  {
   "cell_type": "markdown",
   "metadata": {},
   "source": [
    "#### 3.3. Schema evolution for green data \n",
    "\n",
    "From the results for the green cab data files presented below we observe:\n",
    "\n",
    "- **From 2013.08 to 2014.12** the schema in use is:(vendorid, lpep_pickup_datetime, lpep_dropoff_datetime, store_and_fwd_flag, ratecodeid, pickup_longitude, pickup_latitude, dropoff_longitude, dropoff_latitude, passenger_count, trip_distance, fare_amount, extra, mta_tax, tip_amount, tolls_amount, ehail_fee, total_amount, payment_type, trip_type)\n",
    "- **In 2015.01**  column (improvement_surcharge) was added <br>\n",
    "- **In 2016.07**  columns (pickup_longitude, pickup_latitude, dropoff_longitude, dropoff_latitude) were removed and columns (pulocationid, dolocationid) were added <br>\n",
    "- **In 2019.01**  column (congestion_surcharge) was added  <br>"
   ]
  },
  {
   "cell_type": "code",
   "execution_count": 24,
   "metadata": {},
   "outputs": [
    {
     "data": {
      "text/html": [
       "<div>\n",
       "<style scoped>\n",
       "    .dataframe tbody tr th:only-of-type {\n",
       "        vertical-align: middle;\n",
       "    }\n",
       "\n",
       "    .dataframe tbody tr th {\n",
       "        vertical-align: top;\n",
       "    }\n",
       "\n",
       "    .dataframe thead th {\n",
       "        text-align: right;\n",
       "    }\n",
       "</style>\n",
       "<table border=\"1\" class=\"dataframe\">\n",
       "  <thead>\n",
       "    <tr style=\"text-align: right;\">\n",
       "      <th></th>\n",
       "      <th>type</th>\n",
       "      <th>year</th>\n",
       "      <th>month</th>\n",
       "      <th>schema</th>\n",
       "      <th>removed</th>\n",
       "      <th>added</th>\n",
       "    </tr>\n",
       "  </thead>\n",
       "  <tbody>\n",
       "    <tr>\n",
       "      <th>81</th>\n",
       "      <td>green</td>\n",
       "      <td>2015</td>\n",
       "      <td>1</td>\n",
       "      <td>(vendorid, lpep_pickup_datetime, lpep_dropoff_datetime, store_and_fwd_flag, ratecodeid, pickup_longitude, pickup_latitude, dropoff_longitude, dropoff_latitude, passenger_count, trip_distance, fare_amount, extra, mta_tax, tip_amount, tolls_amount, ehail_fee, improvement_surcharge, total_amount, payment_type, trip_type)</td>\n",
       "      <td>()</td>\n",
       "      <td>(improvement_surcharge,)</td>\n",
       "    </tr>\n",
       "    <tr>\n",
       "      <th>99</th>\n",
       "      <td>green</td>\n",
       "      <td>2016</td>\n",
       "      <td>7</td>\n",
       "      <td>(vendorid, lpep_pickup_datetime, lpep_dropoff_datetime, store_and_fwd_flag, ratecodeid, pulocationid, dolocationid, passenger_count, trip_distance, fare_amount, extra, mta_tax, tip_amount, tolls_amount, ehail_fee, improvement_surcharge, total_amount, payment_type, trip_type)</td>\n",
       "      <td>(pickup_longitude, pickup_latitude, dropoff_longitude, dropoff_latitude)</td>\n",
       "      <td>(pulocationid, dolocationid)</td>\n",
       "    </tr>\n",
       "    <tr>\n",
       "      <th>129</th>\n",
       "      <td>green</td>\n",
       "      <td>2019</td>\n",
       "      <td>1</td>\n",
       "      <td>(vendorid, lpep_pickup_datetime, lpep_dropoff_datetime, store_and_fwd_flag, ratecodeid, pulocationid, dolocationid, passenger_count, trip_distance, fare_amount, extra, mta_tax, tip_amount, tolls_amount, ehail_fee, improvement_surcharge, total_amount, payment_type, trip_type, congestion_surcharge)</td>\n",
       "      <td>()</td>\n",
       "      <td>(congestion_surcharge,)</td>\n",
       "    </tr>\n",
       "  </tbody>\n",
       "</table>\n",
       "</div>"
      ],
      "text/plain": [
       "      type  year  month  \\\n",
       "81   green  2015      1   \n",
       "99   green  2016      7   \n",
       "129  green  2019      1   \n",
       "\n",
       "                                                                                                                                                                                                                                                                                                                              schema  \\\n",
       "81   (vendorid, lpep_pickup_datetime, lpep_dropoff_datetime, store_and_fwd_flag, ratecodeid, pickup_longitude, pickup_latitude, dropoff_longitude, dropoff_latitude, passenger_count, trip_distance, fare_amount, extra, mta_tax, tip_amount, tolls_amount, ehail_fee, improvement_surcharge, total_amount, payment_type, trip_type)   \n",
       "99                                               (vendorid, lpep_pickup_datetime, lpep_dropoff_datetime, store_and_fwd_flag, ratecodeid, pulocationid, dolocationid, passenger_count, trip_distance, fare_amount, extra, mta_tax, tip_amount, tolls_amount, ehail_fee, improvement_surcharge, total_amount, payment_type, trip_type)   \n",
       "129                        (vendorid, lpep_pickup_datetime, lpep_dropoff_datetime, store_and_fwd_flag, ratecodeid, pulocationid, dolocationid, passenger_count, trip_distance, fare_amount, extra, mta_tax, tip_amount, tolls_amount, ehail_fee, improvement_surcharge, total_amount, payment_type, trip_type, congestion_surcharge)   \n",
       "\n",
       "                                                                      removed  \\\n",
       "81                                                                         ()   \n",
       "99   (pickup_longitude, pickup_latitude, dropoff_longitude, dropoff_latitude)   \n",
       "129                                                                        ()   \n",
       "\n",
       "                            added  \n",
       "81       (improvement_surcharge,)  \n",
       "99   (pulocationid, dolocationid)  \n",
       "129       (congestion_surcharge,)  "
      ]
     },
     "execution_count": 24,
     "metadata": {},
     "output_type": "execute_result"
    }
   ],
   "source": [
    "# Analyze the schema changes\n",
    "green_changes = analyze_schema_changes(green_files)\n",
    "green_delta = green_changes[(green_changes['added'] != ()) |  (green_changes['removed'] != ())]\n",
    "green_delta"
   ]
  },
  {
   "cell_type": "markdown",
   "metadata": {},
   "source": [
    "#### 3.4. Schema evolution for yellow dataset\n",
    "\n",
    "From the results for the yellow cab data files presented below we observe:\n",
    "\n",
    "- **From 2015.01 to 2016.12** we have (dispatching_base_num, pickup_date, locationid) as schema <br>\n",
    "- **In 2017.07**  column (sr_flag) was added <br>\n",
    "- **In 2018.01**  column (dispatching_base_number,) was added  <br>\n",
    "- **In 2019.01**  column (dispatching_base_number,) was removed  <br>"
   ]
  },
  {
   "cell_type": "code",
   "execution_count": 25,
   "metadata": {},
   "outputs": [
    {
     "data": {
      "text/html": [
       "<div>\n",
       "<style scoped>\n",
       "    .dataframe tbody tr th:only-of-type {\n",
       "        vertical-align: middle;\n",
       "    }\n",
       "\n",
       "    .dataframe tbody tr th {\n",
       "        vertical-align: top;\n",
       "    }\n",
       "\n",
       "    .dataframe thead th {\n",
       "        text-align: right;\n",
       "    }\n",
       "</style>\n",
       "<table border=\"1\" class=\"dataframe\">\n",
       "  <thead>\n",
       "    <tr style=\"text-align: right;\">\n",
       "      <th></th>\n",
       "      <th>type</th>\n",
       "      <th>year</th>\n",
       "      <th>month</th>\n",
       "      <th>schema</th>\n",
       "      <th>removed</th>\n",
       "      <th>added</th>\n",
       "    </tr>\n",
       "  </thead>\n",
       "  <tbody>\n",
       "    <tr>\n",
       "      <th>147</th>\n",
       "      <td>yellow</td>\n",
       "      <td>2010</td>\n",
       "      <td>1</td>\n",
       "      <td>(vendor_id, pickup_datetime, dropoff_datetime, passenger_count, trip_distance, pickup_longitude, pickup_latitude, rate_code, store_and_fwd_flag, dropoff_longitude, dropoff_latitude, payment_type, fare_amount, surcharge, mta_tax, tip_amount, tolls_amount, total_amount)</td>\n",
       "      <td>(vendor_name, trip_pickup_datetime, trip_dropoff_datetime, start_lon, start_lat, store_and_forward, end_lon, end_lat, fare_amt, tip_amt, tolls_amt, total_amt)</td>\n",
       "      <td>(vendor_id, pickup_datetime, dropoff_datetime, pickup_longitude, pickup_latitude, store_and_fwd_flag, dropoff_longitude, dropoff_latitude, fare_amount, tip_amount, tolls_amount, total_amount)</td>\n",
       "    </tr>\n",
       "    <tr>\n",
       "      <th>207</th>\n",
       "      <td>yellow</td>\n",
       "      <td>2015</td>\n",
       "      <td>1</td>\n",
       "      <td>(vendorid, tpep_pickup_datetime, tpep_dropoff_datetime, passenger_count, trip_distance, pickup_longitude, pickup_latitude, ratecodeid, store_and_fwd_flag, dropoff_longitude, dropoff_latitude, payment_type, fare_amount, extra, mta_tax, tip_amount, tolls_amount, improvement_surcharge, total_amount)</td>\n",
       "      <td>(vendor_id, pickup_datetime, dropoff_datetime, rate_code, surcharge)</td>\n",
       "      <td>(vendorid, tpep_pickup_datetime, tpep_dropoff_datetime, ratecodeid, extra, improvement_surcharge)</td>\n",
       "    </tr>\n",
       "    <tr>\n",
       "      <th>225</th>\n",
       "      <td>yellow</td>\n",
       "      <td>2016</td>\n",
       "      <td>7</td>\n",
       "      <td>(vendorid, tpep_pickup_datetime, tpep_dropoff_datetime, passenger_count, trip_distance, ratecodeid, store_and_fwd_flag, pulocationid, dolocationid, payment_type, fare_amount, extra, mta_tax, tip_amount, tolls_amount, improvement_surcharge, total_amount)</td>\n",
       "      <td>(pickup_longitude, pickup_latitude, dropoff_longitude, dropoff_latitude)</td>\n",
       "      <td>(pulocationid, dolocationid)</td>\n",
       "    </tr>\n",
       "    <tr>\n",
       "      <th>255</th>\n",
       "      <td>yellow</td>\n",
       "      <td>2019</td>\n",
       "      <td>1</td>\n",
       "      <td>(vendorid, tpep_pickup_datetime, tpep_dropoff_datetime, passenger_count, trip_distance, ratecodeid, store_and_fwd_flag, pulocationid, dolocationid, payment_type, fare_amount, extra, mta_tax, tip_amount, tolls_amount, improvement_surcharge, total_amount, congestion_surcharge)</td>\n",
       "      <td>()</td>\n",
       "      <td>(congestion_surcharge,)</td>\n",
       "    </tr>\n",
       "  </tbody>\n",
       "</table>\n",
       "</div>"
      ],
      "text/plain": [
       "       type  year  month  \\\n",
       "147  yellow  2010      1   \n",
       "207  yellow  2015      1   \n",
       "225  yellow  2016      7   \n",
       "255  yellow  2019      1   \n",
       "\n",
       "                                                                                                                                                                                                                                                                                                        schema  \\\n",
       "147                               (vendor_id, pickup_datetime, dropoff_datetime, passenger_count, trip_distance, pickup_longitude, pickup_latitude, rate_code, store_and_fwd_flag, dropoff_longitude, dropoff_latitude, payment_type, fare_amount, surcharge, mta_tax, tip_amount, tolls_amount, total_amount)   \n",
       "207  (vendorid, tpep_pickup_datetime, tpep_dropoff_datetime, passenger_count, trip_distance, pickup_longitude, pickup_latitude, ratecodeid, store_and_fwd_flag, dropoff_longitude, dropoff_latitude, payment_type, fare_amount, extra, mta_tax, tip_amount, tolls_amount, improvement_surcharge, total_amount)   \n",
       "225                                              (vendorid, tpep_pickup_datetime, tpep_dropoff_datetime, passenger_count, trip_distance, ratecodeid, store_and_fwd_flag, pulocationid, dolocationid, payment_type, fare_amount, extra, mta_tax, tip_amount, tolls_amount, improvement_surcharge, total_amount)   \n",
       "255                        (vendorid, tpep_pickup_datetime, tpep_dropoff_datetime, passenger_count, trip_distance, ratecodeid, store_and_fwd_flag, pulocationid, dolocationid, payment_type, fare_amount, extra, mta_tax, tip_amount, tolls_amount, improvement_surcharge, total_amount, congestion_surcharge)   \n",
       "\n",
       "                                                                                                                                                            removed  \\\n",
       "147  (vendor_name, trip_pickup_datetime, trip_dropoff_datetime, start_lon, start_lat, store_and_forward, end_lon, end_lat, fare_amt, tip_amt, tolls_amt, total_amt)   \n",
       "207                                                                                            (vendor_id, pickup_datetime, dropoff_datetime, rate_code, surcharge)   \n",
       "225                                                                                        (pickup_longitude, pickup_latitude, dropoff_longitude, dropoff_latitude)   \n",
       "255                                                                                                                                                              ()   \n",
       "\n",
       "                                                                                                                                                                                               added  \n",
       "147  (vendor_id, pickup_datetime, dropoff_datetime, pickup_longitude, pickup_latitude, store_and_fwd_flag, dropoff_longitude, dropoff_latitude, fare_amount, tip_amount, tolls_amount, total_amount)  \n",
       "207                                                                                                (vendorid, tpep_pickup_datetime, tpep_dropoff_datetime, ratecodeid, extra, improvement_surcharge)  \n",
       "225                                                                                                                                                                     (pulocationid, dolocationid)  \n",
       "255                                                                                                                                                                          (congestion_surcharge,)  "
      ]
     },
     "execution_count": 25,
     "metadata": {},
     "output_type": "execute_result"
    }
   ],
   "source": [
    "# Analyze the schema changes\n",
    "yellow_changes = analyze_schema_changes(yellow_files)\n",
    "yellow_delta = yellow_changes[(yellow_changes['added'] != ()) |  (yellow_changes['removed'] != ())]\n",
    "yellow_delta"
   ]
  }
 ],
 "metadata": {
  "kernelspec": {
   "display_name": "Python 3",
   "language": "python",
   "name": "python3"
  },
  "language_info": {
   "codemirror_mode": {
    "name": "ipython",
    "version": 3
   },
   "file_extension": ".py",
   "mimetype": "text/x-python",
   "name": "python",
   "nbconvert_exporter": "python",
   "pygments_lexer": "ipython3",
   "version": "3.7.3"
  }
 },
 "nbformat": 4,
 "nbformat_minor": 2
}
